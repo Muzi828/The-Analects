{
 "cells": [
  {
   "cell_type": "markdown",
   "metadata": {},
   "source": [
    "# part 1"
   ]
  },
  {
   "cell_type": "markdown",
   "metadata": {},
   "source": [
    "# replace使用"
   ]
  },
  {
   "cell_type": "code",
   "execution_count": 1,
   "metadata": {},
   "outputs": [],
   "source": [
    "s1 = \"1·1子曰(1)：“学(2)而时习(3)之，不亦说(4)乎？有朋(5)自远方来，不亦乐(6)乎？人不知(7)，而不愠(8)，不亦君子(9)乎？”\"\n",
    "s1.replace(\"1·1\",\"\")"
   ]
  },
  {
   "cell_type": "code",
   "execution_count": 2,
   "metadata": {},
   "outputs": [],
   "source": [
    "s1  #replace方法不改变原字符串"
   ]
  },
  {
   "cell_type": "code",
   "execution_count": 3,
   "metadata": {},
   "outputs": [],
   "source": [
    "s1 = s1.replace(\"1·1\",\"\")\n",
    "s1"
   ]
  },
  {
   "cell_type": "markdown",
   "metadata": {},
   "source": [
    "# 第一步 文件夹打开"
   ]
  },
  {
   "cell_type": "code",
   "execution_count": null,
   "metadata": {},
   "outputs": [],
   "source": [
    "\n",
    "#要求：提取《论语》文档中所有原文内容，输出保存到“论语-提取版.txt”文件。\n",
    "#去掉文章中原文部分每行行首空格及如“1.11”等的数字标志，行尾无空格、无空行。\n"
   ]
  },
  {
   "cell_type": "code",
   "execution_count": 4,
   "metadata": {},
   "outputs": [],
   "source": [
    "fi = open(\"C:/Users/86177/Desktop/论语-网络版.txt\",\"r\")\n",
    "fi.read()"
   ]
  },
  {
   "cell_type": "code",
   "execution_count": 5,
   "metadata": {
    "scrolled": true
   },
   "outputs": [
    {
     "data": {
      "text/plain": [
       "'\\ufeff论语全篇 学而篇第一\\n\\n  【本篇引语】\\n\\n  《学而》是《论语》第一篇的篇名。《论语》中各篇一般都是以第一章的前二三个字作为该篇的篇名。《学而》一篇包括16章，内容涉及诸多方面。其中重点是“吾日三省吾身”；“节用而爱人，使民以时”；“礼之用，和为贵”以及仁、孝、信等道德范畴。\\n\\n  【原文】\\n\\n  1·1子曰(1)：“学(2)而时习(3)之，不亦说(4)乎？有朋(5)自远方来，不亦乐(6)乎？人不知(7)，而不愠(8)，不亦君子(9)乎？”\\n\\n  【注释】\\n\\n  (1)子：中国古代对于有地位、有学问的男子的尊称，有时也泛称男子。《论语》书中“子曰”的子，都是指孔子而言。\\n\\n  (2)学：孔子在这里所讲的“学”，主要是指学习西周的礼、乐、诗、书等传统文化典籍。\\n\\n  (3)时习：在周秦时代，“时”字用作副词，意为“在一定的时候”或者“在适当的时候”。但朱熹在《论语集注》一书中把“时”解释为“时常”。“习”，指演习礼、乐；复习诗、书。也含有温习、实习、练习的意思。\\n\\n  (4)说：音ｙｕè，同悦，愉快、高兴的意思。\\n\\n  (5)有朋：一本作“友朋”。旧注说，“同门曰朋”，即同在一位老师'"
      ]
     },
     "execution_count": 5,
     "metadata": {},
     "output_type": "execute_result"
    }
   ],
   "source": [
    "fi = open(\"C:/Users/86177/Desktop/论语-网络版.txt\",\"r\",encoding = \"utf-8\") #一般添加编码utf-8再读入即可\n",
    "fi.read(500) #读入前500字符\n",
    "\n",
    "#分析可知：要求写入的内容都在“【原文】”后边，所以在读取时候遇到“【原文】”即可读入之后的内容。"
   ]
  },
  {
   "cell_type": "markdown",
   "metadata": {},
   "source": [
    "# 第二步将原文写入到目标文件夹"
   ]
  },
  {
   "cell_type": "code",
   "execution_count": 6,
   "metadata": {},
   "outputs": [
    {
     "ename": "UnicodeEncodeError",
     "evalue": "'gbk' codec can't encode character '\\ue057' in position 8: illegal multibyte sequence",
     "output_type": "error",
     "traceback": [
      "\u001b[1;31m---------------------------------------------------------------------------\u001b[0m",
      "\u001b[1;31mUnicodeEncodeError\u001b[0m                        Traceback (most recent call last)",
      "\u001b[1;32m<ipython-input-6-668baa0d3fa4>\u001b[0m in \u001b[0;36m<module>\u001b[1;34m\u001b[0m\n\u001b[0;32m      7\u001b[0m         \u001b[1;32mcontinue\u001b[0m\u001b[1;33m\u001b[0m\u001b[1;33m\u001b[0m\u001b[0m\n\u001b[0;32m      8\u001b[0m     \u001b[1;32mif\u001b[0m \u001b[0mflag\u001b[0m \u001b[1;33m==\u001b[0m \u001b[1;32mTrue\u001b[0m\u001b[1;33m:\u001b[0m\u001b[1;33m\u001b[0m\u001b[1;33m\u001b[0m\u001b[0m\n\u001b[1;32m----> 9\u001b[1;33m         \u001b[0mfo\u001b[0m\u001b[1;33m.\u001b[0m\u001b[0mwrite\u001b[0m\u001b[1;33m(\u001b[0m\u001b[0mline\u001b[0m\u001b[1;33m)\u001b[0m\u001b[1;33m\u001b[0m\u001b[1;33m\u001b[0m\u001b[0m\n\u001b[0m\u001b[0;32m     10\u001b[0m \u001b[0mfi\u001b[0m\u001b[1;33m.\u001b[0m\u001b[0mclose\u001b[0m\u001b[1;33m(\u001b[0m\u001b[1;33m)\u001b[0m\u001b[1;33m\u001b[0m\u001b[1;33m\u001b[0m\u001b[0m\n\u001b[0;32m     11\u001b[0m \u001b[0mfo\u001b[0m\u001b[1;33m.\u001b[0m\u001b[0mclose\u001b[0m\u001b[1;33m(\u001b[0m\u001b[1;33m)\u001b[0m\u001b[1;33m\u001b[0m\u001b[1;33m\u001b[0m\u001b[0m\n",
      "\u001b[1;31mUnicodeEncodeError\u001b[0m: 'gbk' codec can't encode character '\\ue057' in position 8: illegal multibyte sequence"
     ]
    }
   ],
   "source": [
    "fi = open(\"C:/Users/86177/Desktop/论语-网络版.txt\",\"r\",encoding = \"utf-8\")\n",
    "fo = open(\"C:/Users/86177/Desktop/论语-网络版1.txt\",\"w\")\n",
    "flag = False        #设置标记\n",
    "for line in fi: \n",
    "    if \"【原文】\" in line:\n",
    "        flag = True\n",
    "        continue\n",
    "    if flag == True:\n",
    "        fo.write(line)\n",
    "fi.close()\n",
    "fo.close()"
   ]
  },
  {
   "cell_type": "code",
   "execution_count": 21,
   "metadata": {},
   "outputs": [],
   "source": [
    "fi = open(\"C:/Users/86177/Desktop/论语-网络版.txt\",\"r\",encoding = \"utf-8\")\n",
    "fo = open(\"C:/Users/86177/Desktop/论语-网络版1.txt\",\"w\")\n",
    "flag = False                                                     #设置标记\n",
    "for line in fi: \n",
    "    if \"【\" in line:    \n",
    "        flag = False                                             #过滤掉其他【】中不需要的信息\n",
    "    if \"【原文】\" in line:\n",
    "        flag = True\n",
    "        continue\n",
    "    if flag == True:\n",
    "        fo.write(line)\n",
    "        #print(line)                                             在notebook上方便查看， idle上面不需要进行此行代码的输入，、\n",
    "                                                                 #直接查看桌面的文件“论语-网络版1.txt”即可 \n",
    "fi.close()\n",
    "fo.close()"
   ]
  },
  {
   "cell_type": "markdown",
   "metadata": {},
   "source": [
    "# 第三步去掉每句话前面的编号"
   ]
  },
  {
   "cell_type": "code",
   "execution_count": 8,
   "metadata": {},
   "outputs": [],
   "source": [
    "#先举个栗子，将下面四句话前面的数字编号去掉\n",
    "\n",
    "s2 = \"1·1子曰(1)：“学(2)而时习(3)之，不亦说(4)乎？有朋(5)自远方来，不亦乐(6)乎？人不知(7)，而不愠(8)，不亦君子(9)乎？”\\\n",
    "      1·2有子(1)曰：“其为人也孝弟(2)，而好犯上者(3)，鲜(4)矣；不好犯上，而好作乱者，未之有也(5)。君子务本(6)，本立而道生(7)。孝弟也者，其为人之本与(8)？”\\\n",
    "      9·14子欲居九夷(1)。或曰：“陋(2)，如之何？”子曰：“君子居之，何陋之有？”\\\n",
    "      11·12季路问事鬼神。子曰：“未能事人，焉能事鬼？”曰：“敢问死。”曰：“未知生，焉知死？”\""
   ]
  },
  {
   "cell_type": "code",
   "execution_count": 9,
   "metadata": {},
   "outputs": [
    {
     "data": {
      "text/plain": [
       "'子曰(1)：“学(2)而时习(3)之，不亦说(4)乎？有朋(5)自远方来，不亦乐(6)乎？人不知(7)，而不愠(8)，不亦君子(9)乎？”      有子(1)曰：“其为人也孝弟(2)，而好犯上者(3)，鲜(4)矣；不好犯上，而好作乱者，未之有也(5)。君子务本(6)，本立而道生(7)。孝弟也者，其为人之本与(8)？”      4子欲居九夷(1)。或曰：“陋(2)，如之何？”子曰：“君子居之，何陋之有？”      12季路问事鬼神。子曰：“未能事人，焉能事鬼？”曰：“敢问死。”曰：“未知生，焉知死？”'"
      ]
     },
     "execution_count": 9,
     "metadata": {},
     "output_type": "execute_result"
    }
   ],
   "source": [
    "#观察一下结构可以发现最前面都是由“数字·数字”组成的，因此可以想到下面操作\n",
    "\n",
    "for i in range(12):                                        #左侧的最大值为11，括号内取12\n",
    "    for j in range(13):                                    #右侧最大值为13，括号内取13 \n",
    "        s2 = s2.replace(\"{}·{}\".format(i,j),\"\")           #一步将前面数字替换成 空 字符\n",
    "s2\n",
    "\n",
    "#结果呢？？？   一脸问号！！！  这么前面还有数字，按理说不是全变成 空 字符了吗？？？"
   ]
  },
  {
   "cell_type": "code",
   "execution_count": 10,
   "metadata": {},
   "outputs": [],
   "source": [
    "s2 = \"1·1子曰(1)：“学(2)而时习(3)之，不亦说(4)乎？有朋(5)自远方来，不亦乐(6)乎？人不知(7)，而不愠(8)，不亦君子(9)乎？”\\\n",
    "      1·2有子(1)曰：“其为人也孝弟(2)，而好犯上者(3)，鲜(4)矣；不好犯上，而好作乱者，未之有也(5)。君子务本(6)，本立而道生(7)。孝弟也者，其为人之本与(8)？”\\\n",
    "      9·14子欲居九夷(1)。或曰：“陋(2)，如之何？”子曰：“君子居之，何陋之有？”\\\n",
    "      11·12季路问事鬼神。子曰：“未能事人，焉能事鬼？”曰：“敢问死。”曰：“未知生，焉知死？”\""
   ]
  },
  {
   "cell_type": "code",
   "execution_count": 11,
   "metadata": {},
   "outputs": [
    {
     "data": {
      "text/plain": [
       "'**子曰(1)：“学(2)而时习(3)之，不亦说(4)乎？有朋(5)自远方来，不亦乐(6)乎？人不知(7)，而不愠(8)，不亦君子(9)乎？”      **有子(1)曰：“其为人也孝弟(2)，而好犯上者(3)，鲜(4)矣；不好犯上，而好作乱者，未之有也(5)。君子务本(6)，本立而道生(7)。孝弟也者，其为人之本与(8)？”      **4子欲居九夷(1)。或曰：“陋(2)，如之何？”子曰：“君子居之，何陋之有？”      1**2季路问事鬼神。子曰：“未能事人，焉能事鬼？”曰：“敢问死。”曰：“未知生，焉知死？”'"
      ]
     },
     "execution_count": 11,
     "metadata": {},
     "output_type": "execute_result"
    }
   ],
   "source": [
    "#为了更加直观的理解，将 空 字符（“”）换成（“**”）\n",
    "\n",
    "for i in range(12):\n",
    "    for j in range(13):\n",
    "        s2 = s2.replace(\"{}·{}\".format(i,j),\"**\")\n",
    "s2\n",
    "\n",
    "#是不是最终发现，即使你遍历循环的值超过10，甚至都到12了，但是最后还是只占据了一个位置，显示一个“*”。\n",
    "\n",
    "#故：最终只是替换了一个占位符而已，所以上述代码在遍历循环时候只要输入10即可"
   ]
  },
  {
   "cell_type": "code",
   "execution_count": 12,
   "metadata": {},
   "outputs": [
    {
     "data": {
      "text/plain": [
       "'**子曰(1)：“学(2)而时习(3)之，不亦说(4)乎？有朋(5)自远方来，不亦乐(6)乎？人不知(7)，而不愠(8)，不亦君子(9)乎？”      **有子(1)曰：“其为人也孝弟(2)，而好犯上者(3)，鲜(4)矣；不好犯上，而好作乱者，未之有也(5)。君子务本(6)，本立而道生(7)。孝弟也者，其为人之本与(8)？”      ***子欲居九夷(1)。或曰：“陋(2)，如之何？”子曰：“君子居之，何陋之有？”      ****季路问事鬼神。子曰：“未能事人，焉能事鬼？”曰：“敢问死。”曰：“未知生，焉知死？”'"
      ]
     },
     "execution_count": 12,
     "metadata": {},
     "output_type": "execute_result"
    }
   ],
   "source": [
    "for i in range(10):                                  #由上可知，一个数字只形成一个占位符，可以遍历0-9（包括0和9），也就是输入10\n",
    "    s2 = s2.replace(\"*{}\".format(i),\"**\")            #将右侧的数字变成“*”\n",
    "for i in range(10):\n",
    "    s2 = s2.replace(\"{}*\".format(i),\"**\")            #将左侧的数字变成“*”\n",
    "s2"
   ]
  },
  {
   "cell_type": "code",
   "execution_count": 13,
   "metadata": {},
   "outputs": [
    {
     "data": {
      "text/plain": [
       "'子曰(1)：“学(2)而时习(3)之，不亦说(4)乎？有朋(5)自远方来，不亦乐(6)乎？人不知(7)，而不愠(8)，不亦君子(9)乎？”      有子(1)曰：“其为人也孝弟(2)，而好犯上者(3)，鲜(4)矣；不好犯上，而好作乱者，未之有也(5)。君子务本(6)，本立而道生(7)。孝弟也者，其为人之本与(8)？”      子欲居九夷(1)。或曰：“陋(2)，如之何？”子曰：“君子居之，何陋之有？”      季路问事鬼神。子曰：“未能事人，焉能事鬼？”曰：“敢问死。”曰：“未知生，焉知死？”'"
      ]
     },
     "execution_count": 13,
     "metadata": {},
     "output_type": "execute_result"
    }
   ],
   "source": [
    "s2 = s2.replace(\"*\",\"\")                              #最后完成“*”字符的去除\n",
    "s2"
   ]
  },
  {
   "cell_type": "markdown",
   "metadata": {},
   "source": [
    "# 第四步将内容写入目标文件"
   ]
  },
  {
   "cell_type": "code",
   "execution_count": null,
   "metadata": {},
   "outputs": [],
   "source": [
    "fo.write(s2)  #此处只是为了展示步骤的完整性。具体的看下面的完整代码"
   ]
  },
  {
   "cell_type": "markdown",
   "metadata": {},
   "source": [
    "# 第五步完整的代码"
   ]
  },
  {
   "cell_type": "code",
   "execution_count": 22,
   "metadata": {},
   "outputs": [],
   "source": [
    "#完整代码如下\n",
    "\n",
    "fi = open(\"C:/Users/86177/Desktop/论语-网络版.txt\",\"r\",encoding = \"utf-8\")\n",
    "fo = open(\"C:/Users/86177/Desktop/论语-网络版1.txt\",\"w\")\n",
    "flag = False\n",
    "for line in fi: \n",
    "    if \"【\" in line:\n",
    "        flag = False\n",
    "    if \"【原文】\" in line:\n",
    "        flag = True\n",
    "        continue\n",
    "    if flag == True:\n",
    "        for i in range(10):\n",
    "            for j in range(10):\n",
    "                line = line.replace(\"{}·{}\".format(i,j),\"**\")\n",
    "        for i in range(10):\n",
    "            line = line.replace(\"{}*\".format(i),\"\")\n",
    "        for i in range(10):\n",
    "            line = line.replace(\"*{}\".format(i),\"\")\n",
    "        line = line.replace(\"*\",\"\")\n",
    "        fo.write(line.lstrip())                     #实现目标格式输出，去掉左侧不必要的符号\n",
    "        #print(line)                                #运行时去掉前面的“#”。在notebook上方便输出结果的查看， \n",
    "                                                                 #idle上面不需要进行此行代码的输入，直接查看桌面的文件“论语-网络版1.txt”即可\n",
    "\n",
    "fi.close()\n",
    "fo.close()"
   ]
  },
  {
   "cell_type": "markdown",
   "metadata": {},
   "source": [
    "# part 2"
   ]
  },
  {
   "cell_type": "code",
   "execution_count": 15,
   "metadata": {},
   "outputs": [],
   "source": [
    "\n",
    "#要求： 在“论语-提取版.txt”基础上，进一步去掉每行文字中所有括号及其内部数字，保存为“论文-原文.txt”文件\n"
   ]
  },
  {
   "cell_type": "code",
   "execution_count": 18,
   "metadata": {},
   "outputs": [],
   "source": [
    "fi = open(\"C:/Users/86177/Desktop/论语-网络版1.txt\", \"r\")\n",
    "fo = open(\"C:/Users/86177/Desktop/论语-原文.txt\", \"w\")\n",
    "for line in fi:     \n",
    "    for i in range(50): #对产生1到22数字 ，数字要根据文本中的标志最大值设定，论语中语录比较简单，标记较少，为了确保不漏掉可以稍微设置大一些                                                     \n",
    "        line=line.replace(\"({})\".format(i), \"\") #构造(i)并替换\n",
    "    fo.write(line)\n",
    "fi.close()\n",
    "fo.close()"
   ]
  },
  {
   "cell_type": "code",
   "execution_count": null,
   "metadata": {},
   "outputs": [],
   "source": [
    "#如果会使用re库的话，也可以使用正则表达式进行处理。"
   ]
  }
 ],
 "metadata": {
  "kernelspec": {
   "display_name": "Python 3",
   "language": "python",
   "name": "python3"
  },
  "language_info": {
   "codemirror_mode": {
    "name": "ipython",
    "version": 3
   },
   "file_extension": ".py",
   "mimetype": "text/x-python",
   "name": "python",
   "nbconvert_exporter": "python",
   "pygments_lexer": "ipython3",
   "version": "3.7.3"
  }
 },
 "nbformat": 4,
 "nbformat_minor": 2
}
